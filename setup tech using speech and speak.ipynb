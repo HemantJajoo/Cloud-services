{
 "cells": [
  {
   "cell_type": "code",
   "execution_count": 4,
   "metadata": {},
   "outputs": [],
   "source": [
    "import pyttsx3\n",
    "import speech_recognition  as sr\n",
    "import webbrowser as wb"
   ]
  },
  {
   "cell_type": "code",
   "execution_count": 2,
   "metadata": {},
   "outputs": [],
   "source": []
  },
  {
   "cell_type": "code",
   "execution_count": 5,
   "metadata": {},
   "outputs": [],
   "source": [
    "speaker = pyttsx3.init()\n",
    "speaker.say(\"this is linux world welcome you\")\n",
    "speaker.runAndWait()"
   ]
  },
  {
   "cell_type": "code",
   "execution_count": 5,
   "metadata": {},
   "outputs": [],
   "source": []
  },
  {
   "cell_type": "code",
   "execution_count": 6,
   "metadata": {},
   "outputs": [],
   "source": [
    "import speech_recognition  as sr"
   ]
  },
  {
   "cell_type": "code",
   "execution_count": 7,
   "metadata": {},
   "outputs": [],
   "source": [
    "mic  =  sr.Microphone()"
   ]
  },
  {
   "cell_type": "code",
   "execution_count": 8,
   "metadata": {},
   "outputs": [
    {
     "data": {
      "text/plain": [
       "<speech_recognition.Microphone at 0x24edafbb9e8>"
      ]
     },
     "execution_count": 8,
     "metadata": {},
     "output_type": "execute_result"
    }
   ],
   "source": [
    "mic"
   ]
  },
  {
   "cell_type": "code",
   "execution_count": 12,
   "metadata": {},
   "outputs": [],
   "source": [
    "r = sr.Recognizer()"
   ]
  },
  {
   "cell_type": "code",
   "execution_count": 13,
   "metadata": {},
   "outputs": [
    {
     "data": {
      "text/plain": [
       "<speech_recognition.Recognizer at 0x24edb122470>"
      ]
     },
     "execution_count": 13,
     "metadata": {},
     "output_type": "execute_result"
    }
   ],
   "source": [
    "\n",
    "r"
   ]
  },
  {
   "cell_type": "code",
   "execution_count": null,
   "metadata": {},
   "outputs": [
    {
     "name": "stdout",
     "output_type": "stream",
     "text": [
      "say :\n"
     ]
    }
   ],
   "source": [
    "mic  =  sr.Microphone()\n",
    "r = sr.Recognizer()\n",
    "\n",
    "with mic as source:\n",
    "    print(\"say :\")\n",
    "    audio = r.listen(source)\n",
    "    text = r.recognize_google(audio)\n",
    "    print(text)\n",
    "    if  \"command\" in text:\n",
    "        print(\"Which command do you want to run\")\n",
    "        speaker.say(\"Which command do you want to run\")\n",
    "        speaker.runAndWait()\n",
    "        \n",
    "        print(\"say :\")\n",
    "        audio = r.listen(source)\n",
    "        text = r.recognize_google(audio)\n",
    "        print(text)\n",
    "        if \"docker\" and \"setup\" in text:\n",
    "            print(\"i know you want to setup docker\")\n",
    "            speaker.say(\"i know you want to setup docker\")\n",
    "            speaker.runAndWait()\n",
    "            print(\"wait we are redirecting you\")\n",
    "            speaker.say(\"wait we are redirecting you\")\n",
    "            speaker.runAndWait()\n",
    "            wb.open_new_tab('http://192.168.0.104/cgi-bin/docker.py')\n",
    "            \n",
    "        elif \"docker\" and \"manage\" in text:\n",
    "            print(\"i know you want to manage docker\")\n",
    "            speaker.say(\"i know you want to manage docker\")\n",
    "            speaker.runAndWait()\n",
    "            print(\"wait we are redirecting you\")\n",
    "            speaker.say(\"wait we are redirecting you\")\n",
    "            speaker.runAndWait()\n",
    "            wb.open_new_tab('http://192.168.0.104/cgi-bin/docker_manage.py')\n",
    "            \n",
    "            \n",
    "        else:\n",
    "            print(\"not understand\")\n",
    "            \n",
    "    else:\n",
    "        print(\"i dont have what u want\")\n",
    "        speaker.say(\"i dont have what u want\")\n",
    "        speaker.runAndWait()\n",
    "    #speaker.say(text)\n",
    "    #speaker.runAndWait()\n",
    "    "
   ]
  },
  {
   "cell_type": "code",
   "execution_count": null,
   "metadata": {},
   "outputs": [],
   "source": []
  }
 ],
 "metadata": {
  "kernelspec": {
   "display_name": "Python 3",
   "language": "python",
   "name": "python3"
  },
  "language_info": {
   "codemirror_mode": {
    "name": "ipython",
    "version": 3
   },
   "file_extension": ".py",
   "mimetype": "text/x-python",
   "name": "python",
   "nbconvert_exporter": "python",
   "pygments_lexer": "ipython3",
   "version": "3.6.4"
  }
 },
 "nbformat": 4,
 "nbformat_minor": 2
}
